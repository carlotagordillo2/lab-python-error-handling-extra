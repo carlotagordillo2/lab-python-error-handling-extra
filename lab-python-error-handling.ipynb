{
 "cells": [
  {
   "cell_type": "markdown",
   "id": "25d7736c-ba17-4aff-b6bb-66eba20fbf4e",
   "metadata": {},
   "source": [
    "# Lab | Error Handling"
   ]
  },
  {
   "cell_type": "markdown",
   "id": "6f8e446f-16b4-4e21-92e7-9d3d1eb551b6",
   "metadata": {},
   "source": [
    "Objective: Practice how to identify, handle and recover from potential errors in Python code using try-except blocks."
   ]
  },
  {
   "cell_type": "markdown",
   "id": "e253e768-aed8-4791-a800-87add1204afa",
   "metadata": {},
   "source": [
    "## Challenge \n",
    "\n",
    "Paste here your lab *functions* solutions. Apply error handling techniques to each function using try-except blocks. "
   ]
  },
  {
   "cell_type": "markdown",
   "id": "9180ff86-c3fe-4152-a609-081a287fa1af",
   "metadata": {},
   "source": [
    "The try-except block in Python is designed to handle exceptions and provide a fallback mechanism when code encounters errors. By enclosing the code that could potentially throw errors in a try block, followed by specific or general exception handling in the except block, we can gracefully recover from errors and continue program execution.\n",
    "\n",
    "However, there may be cases where an input may not produce an immediate error, but still needs to be addressed. In such situations, it can be useful to explicitly raise an error using the \"raise\" keyword, either to draw attention to the issue or handle it elsewhere in the program.\n",
    "\n",
    "Modify the code to handle possible errors in Python, it is recommended to use `try-except-else-finally` blocks, incorporate the `raise` keyword where necessary, and print meaningful error messages to alert users of any issues that may occur during program execution.\n",
    "\n"
   ]
  },
  {
   "cell_type": "code",
   "execution_count": 1,
   "id": "cc2c441d-9dcf-4817-b097-cf6cbe440846",
   "metadata": {},
   "outputs": [],
   "source": [
    "def initialize_inventory(products):\n",
    "    inventory = {}\n",
    "    for product in products:\n",
    "        valid_quantity = False\n",
    "        while not valid_quantity:\n",
    "            try:\n",
    "                quantity = int(input(f\"Enter the quantity of {product}s available: \"))\n",
    "                if quantity < 0:\n",
    "                    raise ValueError(\"Invalid quantity! Please enter a non-negative value.\")\n",
    "                valid_quantity = True\n",
    "            except ValueError as error:\n",
    "                print(f\"Error: {error}\")\n",
    "        inventory[product] = quantity\n",
    "    return inventory"
   ]
  },
  {
   "cell_type": "code",
   "execution_count": 2,
   "id": "4695874f",
   "metadata": {},
   "outputs": [
    {
     "data": {
      "text/plain": [
       "{'t-shirt': 2, 'mug': 2, 'hat': 2, 'book': 2, 'keychain': 2}"
      ]
     },
     "execution_count": 2,
     "metadata": {},
     "output_type": "execute_result"
    }
   ],
   "source": [
    "products = [\"t-shirt\", \"mug\", \"hat\", \"book\", \"keychain\"]\n",
    "products\n",
    "inventory = initialize_inventory(products)\n",
    "inventory"
   ]
  },
  {
   "cell_type": "code",
   "execution_count": 5,
   "id": "3df36744",
   "metadata": {},
   "outputs": [],
   "source": [
    "def get_customer_orders(): \n",
    " \n",
    "    customer_orders = set()\n",
    "    valid_quantity = False \n",
    "    while not valid_quantity: \n",
    "        try: \n",
    "                \n",
    "            quant = int(input(f\"Enter the number of customer orders :\")) \n",
    "            if quant<0:\n",
    "                raise ValueError(\"Invalid quantity! Please enter a non-negative value.\")\n",
    "            valid_quantity = True\n",
    "        except ValueError as error: \n",
    "            print(f\"Error: {error}\")   \n",
    "    \n",
    "    for i in range(quant):\n",
    "        valid_prod = False\n",
    "        while not valid_prod: \n",
    "            try: \n",
    "                prod = input(\"Enter the name of a product that a customer wants to order\")\n",
    "                \n",
    "                \n",
    "                if (prod  not in products) or (inventory[prod] ==0): \n",
    "                    raise ValueError(\"Invalid product! Please enter a exist or available product.\")\n",
    "                valid_prod = True\n",
    "            except ValueError as error: \n",
    "                print(f\"Error: {error}\")\n",
    "\n",
    "    \n",
    "        customer_orders.add(prod)\n",
    "    \n",
    "    return customer_orders"
   ]
  },
  {
   "cell_type": "code",
   "execution_count": 6,
   "id": "335d856d",
   "metadata": {},
   "outputs": [
    {
     "name": "stdout",
     "output_type": "stream",
     "text": [
      "Error: Invalid product! Please enter a exist or available product.\n",
      "Error: Invalid product! Please enter a exist or available product.\n"
     ]
    }
   ],
   "source": [
    "customer_orders = get_customer_orders()"
   ]
  },
  {
   "cell_type": "code",
   "execution_count": 19,
   "id": "86fb6a8e",
   "metadata": {},
   "outputs": [],
   "source": [
    "def update_inventory(customer_orders, inventory): \n",
    "    for e in customer_orders: \n",
    "        if inventory[e]>0:\n",
    "            if (inventory[e]-1)>0:\n",
    "                inventory[e]-=1\n",
    "            else: \n",
    "                del inventory[e]\n",
    "        else: \n",
    "            print(\"There aren't stock\")\n",
    "            \n",
    "    \n",
    "    \n",
    "    return inventory"
   ]
  },
  {
   "cell_type": "code",
   "execution_count": 24,
   "id": "0c9e414e",
   "metadata": {},
   "outputs": [],
   "source": [
    "def update_inventory1(customer_orders, inventory):\n",
    "    for order in customer_orders:\n",
    "        try:\n",
    "            # Verificar si el artículo está en el inventario\n",
    "            if order not in inventory:\n",
    "                raise KeyError(f\"El artículo '{order}' no está en el inventario.\")\n",
    "\n",
    "            # Verificar si hay stock disponible\n",
    "            if inventory[order] > 0:\n",
    "                # Disminuir el stock\n",
    "                inventory[order] -= 1\n",
    "                \n",
    "                # Eliminar el artículo si el stock llega a cero\n",
    "                if inventory[order] == 0:\n",
    "                    del inventory[order]\n",
    "            else:\n",
    "                print(f\"No hay stock disponible para el artículo '{order}'.\")\n",
    "                \n",
    "        except KeyError as ke:\n",
    "            print(f\"KeyError: {ke}\")\n",
    "        except Exception as e:\n",
    "            print(f\"Ha ocurrido un error inesperado: {e}\")\n",
    "    \n",
    "    return inventory"
   ]
  },
  {
   "cell_type": "code",
   "execution_count": 20,
   "id": "ded4c0a6",
   "metadata": {},
   "outputs": [],
   "source": [
    "def calculate_order_statistics( customer_orders, products): \n",
    "    \n",
    "    # Total products ordered \n",
    "    \n",
    "    total_products_ordered = len(customer_orders)\n",
    "    \n",
    "    # percentage of unique products ordered \n",
    "    \n",
    "    precentage_ordered = (total_products_ordered/len(products))*100\n",
    "    \n",
    "    order_statistics = total_products_ordered, precentage_ordered\n",
    "    return order_statistics"
   ]
  },
  {
   "cell_type": "code",
   "execution_count": 21,
   "id": "b8c5cb87",
   "metadata": {},
   "outputs": [],
   "source": [
    "def print_order_statistics(order_statistics): \n",
    "    print(f\"Order Statistics: \\n Total Products Ordered : {order_statistics[0]} \\n Percentage of Products Ordered : {order_statistics[1]} %\")"
   ]
  },
  {
   "cell_type": "code",
   "execution_count": 22,
   "id": "424d86a8",
   "metadata": {},
   "outputs": [],
   "source": [
    "def print_updated_inventory(inventory): \n",
    "    print(\"This is the uplated inventory: \")\n",
    "    for product, quantity in inventory.items():\n",
    "        print(f\"{product}: {quantity}\")"
   ]
  },
  {
   "cell_type": "code",
   "execution_count": 23,
   "id": "bbaef9f7",
   "metadata": {},
   "outputs": [],
   "source": [
    "def blank():\n",
    "    print(\"\\n\")"
   ]
  },
  {
   "cell_type": "code",
   "execution_count": 18,
   "id": "efa62ca0",
   "metadata": {},
   "outputs": [],
   "source": [
    "def calculate_total_price(customer_orders):\n",
    "    prices = []\n",
    "    for prod in customer_orders: \n",
    "        valid_quantity = False \n",
    "        while not valid_quantity: \n",
    "            try: \n",
    "                \n",
    "                price = int(input(f\"Enter the price of {prod}:\")) \n",
    "                prices.append(price)\n",
    "                \n",
    "                if price<0:\n",
    "                    raise ValueError(\"Invalid quantity! Please enter a non-negative value.\")\n",
    "                valid_quantity = True\n",
    "            except ValueError as error: \n",
    "                print(f\"Error: {error}\")\n",
    "    \n",
    "    new_prices= [pr for pr in prices if pr>0]\n",
    "    \n",
    "    total = float(sum(new_prices))\n",
    "    print(f\"Total price: {total}\")"
   ]
  },
  {
   "cell_type": "code",
   "execution_count": 17,
   "id": "f8d4e6c0",
   "metadata": {},
   "outputs": [
    {
     "name": "stdout",
     "output_type": "stream",
     "text": [
      "Error: Invalid quantity! Please enter a non-negative value.\n",
      "Error: Invalid quantity! Please enter a non-negative value.\n",
      "Error: Invalid quantity! Please enter a non-negative value.\n",
      "[-2, -5, -5, 2, 5]\n",
      "[2, 5]\n",
      "Total price: 7.0\n"
     ]
    }
   ],
   "source": [
    "calculate_total_price(customer_orders)"
   ]
  },
  {
   "cell_type": "code",
   "execution_count": 25,
   "id": "0da1f6b1",
   "metadata": {},
   "outputs": [
    {
     "name": "stdout",
     "output_type": "stream",
     "text": [
      "Error: Invalid quantity! Please enter a non-negative value.\n",
      "Error: Invalid quantity! Please enter a non-negative value.\n",
      "Error: Invalid product! Please enter a exist or available product.\n",
      "Order Statistics: \n",
      " Total Products Ordered : 1 \n",
      " Percentage of Products Ordered : 20.0 %\n",
      "\n",
      "\n",
      "This is the uplated inventory: \n",
      "t-shirt: 4\n",
      "mug: 2\n",
      "hat: 1\n",
      "book: 5\n",
      "keychain: 5\n",
      "Error: Invalid quantity! Please enter a non-negative value.\n",
      "Total price: 5.0\n"
     ]
    }
   ],
   "source": [
    "products = [\"t-shirt\", \"mug\", \"hat\", \"book\", \"keychain\"]\n",
    "inventory = initialize_inventory(products)\n",
    "customer_orders = get_customer_orders()\n",
    "update_inventory1(customer_orders, inventory)\n",
    "order_statistics = calculate_order_statistics(customer_orders, products)\n",
    "\n",
    "print_order_statistics(order_statistics)\n",
    "blank()\n",
    "print_updated_inventory(inventory)\n",
    "calculate_total_price(customer_orders)"
   ]
  },
  {
   "cell_type": "code",
   "execution_count": null,
   "id": "41a8e7e4",
   "metadata": {},
   "outputs": [],
   "source": []
  }
 ],
 "metadata": {
  "kernelspec": {
   "display_name": "Python 3 (ipykernel)",
   "language": "python",
   "name": "python3"
  },
  "language_info": {
   "codemirror_mode": {
    "name": "ipython",
    "version": 3
   },
   "file_extension": ".py",
   "mimetype": "text/x-python",
   "name": "python",
   "nbconvert_exporter": "python",
   "pygments_lexer": "ipython3",
   "version": "3.11.7"
  }
 },
 "nbformat": 4,
 "nbformat_minor": 5
}
